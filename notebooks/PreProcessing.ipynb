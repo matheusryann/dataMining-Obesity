{
 "cells": [
  {
   "cell_type": "code",
   "execution_count": 2,
   "metadata": {},
   "outputs": [
    {
     "name": "stdout",
     "output_type": "stream",
     "text": [
      "    Age  Gender  Height  Weight        CALC FAVC  FCVC  NCP  SCC SMOKE  CH2O  \\\n",
      "0  21.0  Female    1.62    64.0          no   no   2.0  3.0   no    no   2.0   \n",
      "1  21.0  Female    1.52    56.0   Sometimes   no   3.0  3.0  yes   yes   3.0   \n",
      "2  23.0    Male    1.80    77.0  Frequently   no   2.0  3.0   no    no   2.0   \n",
      "3  27.0    Male    1.80    87.0  Frequently   no   3.0  3.0   no    no   2.0   \n",
      "4  22.0    Male    1.78    89.8   Sometimes   no   2.0  1.0   no    no   2.0   \n",
      "\n",
      "  family_history_with_overweight  FAF  TUE       CAEC                 MTRANS  \\\n",
      "0                            yes  0.0  1.0  Sometimes  Public_Transportation   \n",
      "1                            yes  3.0  0.0  Sometimes  Public_Transportation   \n",
      "2                            yes  2.0  1.0  Sometimes  Public_Transportation   \n",
      "3                             no  2.0  0.0  Sometimes                Walking   \n",
      "4                             no  0.0  0.0  Sometimes  Public_Transportation   \n",
      "\n",
      "            NObeyesdad  \n",
      "0        Normal_Weight  \n",
      "1        Normal_Weight  \n",
      "2        Normal_Weight  \n",
      "3   Overweight_Level_I  \n",
      "4  Overweight_Level_II  \n"
     ]
    }
   ],
   "source": [
    "import pandas as pd\n",
    "\n",
    "# Caminho do dataset já salvo\n",
    "file_path = \"../dataset/raw/ObesityDataSet_raw_and_data_sinthetic.csv\"\n",
    "\n",
    "# Carregar os dados novamente\n",
    "df = pd.read_csv(file_path)\n",
    "\n",
    "# Exibir as primeiras linhas para conferir\n",
    "print(df.head())\n"
   ]
  },
  {
   "cell_type": "code",
   "execution_count": 5,
   "metadata": {},
   "outputs": [
    {
     "name": "stdout",
     "output_type": "stream",
     "text": [
      "Número de registros após remoção de duplicatas: 2087\n"
     ]
    }
   ],
   "source": [
    "# Remover registros duplicados\n",
    "df = df.drop_duplicates()\n",
    "\n",
    "# Confirmar a remoção\n",
    "print(f\"Número de registros após remoção de duplicatas: {df.shape[0]}\")\n"
   ]
  },
  {
   "cell_type": "code",
   "execution_count": null,
   "metadata": {},
   "outputs": [
    {
     "name": "stdout",
     "output_type": "stream",
     "text": [
      "\n",
      "🔹 Novas colunas após One-Hot Encoding:\n",
      "    Age  Height  Weight  FCVC  NCP  CH2O  FAF  TUE  Gender_Male  \\\n",
      "0  21.0    1.62    64.0   2.0  3.0   2.0  0.0  1.0        False   \n",
      "1  21.0    1.52    56.0   3.0  3.0   3.0  3.0  0.0        False   \n",
      "2  23.0    1.80    77.0   2.0  3.0   2.0  2.0  1.0         True   \n",
      "3  27.0    1.80    87.0   3.0  3.0   2.0  2.0  0.0         True   \n",
      "4  22.0    1.78    89.8   2.0  1.0   2.0  0.0  0.0         True   \n",
      "\n",
      "   CALC_Frequently  ...  MTRANS_Bike  MTRANS_Motorbike  \\\n",
      "0            False  ...        False             False   \n",
      "1            False  ...        False             False   \n",
      "2             True  ...        False             False   \n",
      "3             True  ...        False             False   \n",
      "4            False  ...        False             False   \n",
      "\n",
      "   MTRANS_Public_Transportation  MTRANS_Walking  NObeyesdad_Normal_Weight  \\\n",
      "0                          True           False                      True   \n",
      "1                          True           False                      True   \n",
      "2                          True           False                      True   \n",
      "3                         False            True                     False   \n",
      "4                          True           False                     False   \n",
      "\n",
      "   NObeyesdad_Obesity_Type_I  NObeyesdad_Obesity_Type_II  \\\n",
      "0                      False                       False   \n",
      "1                      False                       False   \n",
      "2                      False                       False   \n",
      "3                      False                       False   \n",
      "4                      False                       False   \n",
      "\n",
      "   NObeyesdad_Obesity_Type_III  NObeyesdad_Overweight_Level_I  \\\n",
      "0                        False                          False   \n",
      "1                        False                          False   \n",
      "2                        False                          False   \n",
      "3                        False                           True   \n",
      "4                        False                          False   \n",
      "\n",
      "   NObeyesdad_Overweight_Level_II  \n",
      "0                           False  \n",
      "1                           False  \n",
      "2                           False  \n",
      "3                           False  \n",
      "4                            True  \n",
      "\n",
      "[5 rows x 29 columns]\n"
     ]
    }
   ],
   "source": [
    "# 📌 Converter colunas categóricas para tipo adequado\n",
    "categorical_cols = [\n",
    "    \"Gender\", \"CALC\", \"FAVC\", \"SCC\", \"SMOKE\",\n",
    "    \"family_history_with_overweight\", \"CAEC\", \"MTRANS\", \"NObeyesdad\"\n",
    "]\n",
    "\n",
    "df[categorical_cols] = df[categorical_cols].astype(\"category\")\n",
    "\n",
    "# 📌 Aplicar One-Hot Encoding\n",
    "df_encoded = pd.get_dummies(df, columns=categorical_cols, drop_first=False)\n",
    "\n",
    "# 📌 Exibir as novas colunas criadas\n",
    "print(\"\\n🔹 Novas colunas após One-Hot Encoding:\")\n",
    "print(df_encoded.head())"
   ]
  },
  {
   "cell_type": "code",
   "execution_count": 7,
   "metadata": {},
   "outputs": [
    {
     "name": "stdout",
     "output_type": "stream",
     "text": [
      "Registros antes da remoção de outliers: 2087\n",
      "Registros após a remoção de outliers: 1388\n"
     ]
    }
   ],
   "source": [
    "# Detectar e Tratar Outliers\n",
    "# Objetivo: Identificar e remover valores extremos que podem distorcer o modelo.\n",
    "\n",
    "import numpy as np\n",
    "\n",
    "# Selecionar apenas as colunas numéricas\n",
    "numerical_cols = df.select_dtypes(include=[\"float64\", \"int64\"]).columns\n",
    "\n",
    "# Calcular o IQR (Intervalo Interquartil) para cada variável numérica\n",
    "Q1 = df[numerical_cols].quantile(0.25)\n",
    "Q3 = df[numerical_cols].quantile(0.75)\n",
    "IQR = Q3 - Q1\n",
    "\n",
    "# Definir limites para detecção de outliers\n",
    "lower_bound = Q1 - 1.5 * IQR\n",
    "upper_bound = Q3 + 1.5 * IQR\n",
    "\n",
    "# Criar um DataFrame sem outliers\n",
    "df_cleaned = df[~((df[numerical_cols] < lower_bound) | (df[numerical_cols] > upper_bound)).any(axis=1)]\n",
    "\n",
    "# Exibir quantos registros foram removidos\n",
    "print(f\"Registros antes da remoção de outliers: {df.shape[0]}\")\n",
    "print(f\"Registros após a remoção de outliers: {df_cleaned.shape[0]}\")\n",
    "\n",
    "# Atualizar o DataFrame original para a versão sem outliers\n",
    "df = df_cleaned\n"
   ]
  },
  {
   "cell_type": "code",
   "execution_count": 4,
   "metadata": {},
   "outputs": [
    {
     "name": "stdout",
     "output_type": "stream",
     "text": [
      "✅ Dataset tratado salvo em: ../dataset/raw/ObesityDataSet_cleaned.csv\n"
     ]
    }
   ],
   "source": [
    "# Salvar o dataset tratado na pasta RAW\n",
    "processed_file_path = \"../dataset/raw/ObesityDataSet_cleaned.csv\"\n",
    "df.to_csv(processed_file_path, index=False)\n",
    "\n",
    "print(f\"✅ Dataset tratado salvo em: {processed_file_path}\")\n"
   ]
  }
 ],
 "metadata": {
  "kernelspec": {
   "display_name": "venv",
   "language": "python",
   "name": "python3"
  },
  "language_info": {
   "codemirror_mode": {
    "name": "ipython",
    "version": 3
   },
   "file_extension": ".py",
   "mimetype": "text/x-python",
   "name": "python",
   "nbconvert_exporter": "python",
   "pygments_lexer": "ipython3",
   "version": "3.12.6"
  }
 },
 "nbformat": 4,
 "nbformat_minor": 2
}
