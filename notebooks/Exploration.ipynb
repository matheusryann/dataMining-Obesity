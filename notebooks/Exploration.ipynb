{
 "cells": [
  {
   "cell_type": "code",
   "execution_count": 4,
   "metadata": {},
   "outputs": [],
   "source": [
    "# Importação das bibliotecas essenciais para análise de dados\n",
    "import pandas as pd  # Para manipulação de dados\n",
    "import numpy as np  # Para operações numéricas\n",
    "import matplotlib.pyplot as plt  # Para gráficos básicos\n",
    "import seaborn as sns  # Para visualizações mais avançadas\n",
    "import os\n"
   ]
  },
  {
   "cell_type": "code",
   "execution_count": null,
   "metadata": {},
   "outputs": [
    {
     "name": "stdout",
     "output_type": "stream",
     "text": [
      "❌ Arquivo NÃO encontrado! Verifique o caminho e tente novamente.\n"
     ]
    }
   ],
   "source": [
    "\n",
    "# Caminho do dataset\n",
    "file_path = \"../dataset/raw/ObesityDatasSet_raw_and_data_sinthetic.csv\"\n",
    "\n",
    "# Verifica se o arquivo realmente existe antes de tentar abrir\n",
    "if os.path.exists(file_path):\n",
    "    print(\"✅ Arquivo encontrado! Prosseguindo com a leitura...\")\n",
    "    \n",
    "    # Leitura do DataSet em um DataFrame\n",
    "    df = pd.read_csv(file_path)\n",
    "    \n",
    "    # Exibir as primeiras linhas para conferência\n",
    "    print(df.head())\n",
    "\n",
    "else:\n",
    "    print(\"❌ Arquivo NÃO encontrado! Verifique o caminho e tente novamente.\")\n",
    "\n"
   ]
  }
 ],
 "metadata": {
  "kernelspec": {
   "display_name": "venv",
   "language": "python",
   "name": "python3"
  },
  "language_info": {
   "codemirror_mode": {
    "name": "ipython",
    "version": 3
   },
   "file_extension": ".py",
   "mimetype": "text/x-python",
   "name": "python",
   "nbconvert_exporter": "python",
   "pygments_lexer": "ipython3",
   "version": "3.12.6"
  }
 },
 "nbformat": 4,
 "nbformat_minor": 2
}
